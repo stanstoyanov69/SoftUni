{
 "cells": [
  {
   "cell_type": "code",
   "execution_count": null,
   "metadata": {},
   "outputs": [],
   "source": [
    "# While Loops SoftUni\n",
    "\n",
    "word = input()\n",
    "\n",
    "while word == 'Stop':\n",
    "    word = input()\n",
    "    "
   ]
  },
  {
   "cell_type": "code",
   "execution_count": null,
   "metadata": {},
   "outputs": [],
   "source": [
    "# Sum of numbers \n",
    "number = int(input())\n",
    "sum = 0\n",
    "\n",
    "while sum <= number:\n",
    "    current_num = int(input())\n",
    "    sum += current_num\n",
    "\n",
    "print(sum)"
   ]
  },
  {
   "cell_type": "code",
   "execution_count": null,
   "metadata": {},
   "outputs": [],
   "source": [
    "# Password\n",
    "\n",
    "username = input()\n",
    "password = input()\n",
    "data = input()\n",
    "\n",
    "while data != password:\n",
    "    data = input()\n",
    "    \n",
    "print(f'{username} Welcome')"
   ]
  },
  {
   "cell_type": "code",
   "execution_count": null,
   "metadata": {},
   "outputs": [],
   "source": [
    "#Sequence of numbers 2k\n",
    "\n",
    "number = int(input())\n",
    "counter = 1\n",
    "while counter <= number:\n",
    "    print(counter)\n",
    "    counter = 2 * counter + 1"
   ]
  },
  {
   "cell_type": "code",
   "execution_count": null,
   "metadata": {},
   "outputs": [],
   "source": [
    "balance = 0\n",
    "line = input()\n",
    "\n",
    "while line != \"NoMoreMoney\":\n",
    "    current_amount = float(line)\n",
    "\n",
    "    if current_amount < 0:\n",
    "        print(\"Invalid operation!\")\n",
    "        break\n",
    "\n",
    "    balance += current_amount\n",
    "    print(f'Increase: {current_amount:.2f}')\n",
    "\n",
    "    line = input()\n",
    "\n",
    "print(f'Total: {balance:.2f}')"
   ]
  },
  {
   "cell_type": "code",
   "execution_count": null,
   "metadata": {},
   "outputs": [],
   "source": [
    "# Max Number\n",
    "max = 0\n",
    "command = input()\n",
    "\n",
    "while command != 'Stop':\n",
    "    current_num = int(command)\n",
    "    if current_num > max:\n",
    "        max = current_num\n",
    "\n",
    "    command = input()\n",
    "\n",
    "print(max)"
   ]
  },
  {
   "cell_type": "code",
   "execution_count": null,
   "metadata": {},
   "outputs": [],
   "source": [
    "# Min Number"
   ]
  },
  {
   "cell_type": "code",
   "execution_count": null,
   "metadata": {},
   "outputs": [],
   "source": [
    "# Graduation\n",
    "\n",
    "name = input()\n",
    "grade = 1\n",
    "times_excluded = 0\n",
    "average = 0\n",
    "\n",
    "while grade <= 12:\n",
    "    grade1 = float(input())\n",
    "    if grade1 < 4.00:\n",
    "        times_excluded +=1\n",
    "    else:\n",
    "        average += grade1\n",
    "        grade += 1\n",
    "    if times_excluded > 1:\n",
    "        print(f'{name} has been excluded at grade {grade}')\n",
    "    elif grade > 12:\n",
    "        print(f'{name} graduated with {average/12:.2f}')\n"
   ]
  },
  {
   "cell_type": "code",
   "execution_count": null,
   "metadata": {},
   "outputs": [],
   "source": [
    "#Removal\n",
    "\n",
    "width_free = int(input())\n",
    "length_free = int(input())\n",
    "height_free = int(input())\n",
    "box = input()\n",
    "box_count = 0\n",
    "free_space = width_free * length_free * height_free\n",
    "\n",
    "while box != 'Done':\n",
    "    boxes = int(box)\n",
    "    box_count += boxes\n",
    "    if free_space > box_count:\n",
    "        print(free_space-box_count)\n",
    "    elif box_count > free_space:\n",
    "        break\n",
    "    print(f'No more space {abs(box_count-free_space)} sqm more')"
   ]
  },
  {
   "cell_type": "code",
   "execution_count": null,
   "metadata": {},
   "outputs": [],
   "source": [
    "# Exam Preparation\n",
    "failed_threshold = int(input())\n",
    "failed_times = 0\n",
    "solved_problems = 0\n",
    "grades_sum = 0\n",
    "last_problem = \"\"\n",
    "has_failed = True\n",
    "\n",
    "while failed_times < failed_threshold:\n",
    "    problem_name = input()\n",
    "    if problem_name == 'Enough':\n",
    "        has_failed = False\n",
    "        break\n",
    "\n",
    "    grade = int(input())\n",
    "    if grade <=4:\n",
    "        failed_times +=1\n",
    "    grades_sum += grade\n",
    "    solved_problems += 1\n",
    "    last_problem = problem_name\n",
    "if has_failed:\n",
    "    print('You need a break')\n",
    "else:\n",
    "    print(f'{grades_sum/solved_problems},{solved_problems}.{last_problem}')"
   ]
  },
  {
   "cell_type": "code",
   "execution_count": null,
   "metadata": {},
   "outputs": [],
   "source": [
    "# Trip\n",
    "\n",
    "money_for_trip = float(input())\n",
    "available_balance = float(input())\n",
    "days_counter = 0\n",
    "spending_counter = 0\n",
    "\n",
    "while available_balance < money_for_trip and spending_counter < 5:\n",
    "    command = input()\n",
    "    money = float(input())\n",
    "    days_counter += 1\n",
    "    if command == 'save':\n",
    "        available_balance += money\n",
    "    elif command == 'spend':\n",
    "        available_balance -= money\n",
    "        spending_counter += 1\n",
    "        if money_for_trip < 0:\n",
    "            money_for_trip = 0\n",
    "\n",
    "if spending_counter == 5:\n",
    "    print(\"You cant save any money\")\n",
    "    print(days_counter)\n",
    "\n",
    "if available_balance >= money_for_trip:\n",
    "    print(f\"You saved the money for {days_counter} days\")\n"
   ]
  },
  {
   "cell_type": "code",
   "execution_count": 12,
   "metadata": {},
   "outputs": [
    {
     "name": "stdout",
     "output_type": "stream",
     "text": [
      "Goal reached 1000 steps\n"
     ]
    }
   ],
   "source": [
    "# Steps\n",
    "milestone = 10000\n",
    "summary_steps = 0\n",
    "\n",
    "while True:\n",
    "    command = input()\n",
    "    \n",
    "    if command == 'Going Home':\n",
    "        steps = int(input())\n",
    "        summary_steps += steps\n",
    "        \n",
    "        if summary_steps >= milestone:\n",
    "            print(f'Goal reached {summary_steps-milestone}')\n",
    "        else:\n",
    "            print(f'{summary_steps - milestone} more steps to do')\n",
    "        break\n",
    "    else:\n",
    "        current_steps = int(command)\n",
    "        summary_steps += current_steps\n",
    "        if summary_steps >= milestone:\n",
    "            print(f'Goal reached {summary_steps-milestone} steps')\n",
    "            break\n",
    "\n",
    "\n",
    "        "
   ]
  },
  {
   "cell_type": "code",
   "execution_count": null,
   "metadata": {},
   "outputs": [],
   "source": [
    "# Coins\n",
    "coins = int(float(input()) * 100)\n",
    "\n",
    "counter = 0\n",
    "while coins > 0:\n",
    "    counter += 1\n",
    "\n",
    "    if coins >= 200:\n",
    "        coins -= 200\n",
    "\n",
    "    elif 100 <= coins < 200:\n",
    "        coins -= 100\n",
    "\n",
    "    elif 50 <= coins < 100:\n",
    "        coins -= 50\n",
    "\n",
    "    elif 20 <= coins < 50:\n",
    "        coins -= 20\n",
    "\n",
    "    elif 10 <= coins < 20:\n",
    "        coins -= 10\n",
    "\n",
    "    elif 5 <= coins < 10:\n",
    "        coins -= 5\n",
    "\n",
    "    elif 2 <= coins < 5:\n",
    "        coins -= 2\n",
    "\n",
    "    elif coins >= 1:\n",
    "        coins -= 1\n",
    "\n",
    "print(counter)"
   ]
  },
  {
   "cell_type": "code",
   "execution_count": null,
   "metadata": {},
   "outputs": [],
   "source": [
    "# Cake\n",
    "\n",
    "width = int(input())\n",
    "lenght = int(input())\n",
    " \n",
    "cake_pieces = width * lenght\n",
    "cake_taken = 0\n",
    " \n",
    "comand = input()\n",
    " \n",
    "while comand != 'STOP':\n",
    "    com = int(comand)\n",
    "    cake_taken += com\n",
    "    if cake_taken >= cake_pieces:\n",
    "        break\n",
    "    comand = input()\n",
    "pieces_left = abs(cake_pieces - cake_taken)\n",
    "if cake_pieces > cake_taken:\n",
    "    print(f\"{pieces_left} pieces are left.\")\n",
    "else:\n",
    "    print(f\"No more cake left! You need {pieces_left} pieces more.\")"
   ]
  }
 ],
 "metadata": {
  "kernelspec": {
   "display_name": "base",
   "language": "python",
   "name": "python3"
  },
  "language_info": {
   "codemirror_mode": {
    "name": "ipython",
    "version": 3
   },
   "file_extension": ".py",
   "mimetype": "text/x-python",
   "name": "python",
   "nbconvert_exporter": "python",
   "pygments_lexer": "ipython3",
   "version": "3.10.9"
  }
 },
 "nbformat": 4,
 "nbformat_minor": 2
}
