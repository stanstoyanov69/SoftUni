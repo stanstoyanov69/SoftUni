{
 "cells": [
  {
   "cell_type": "code",
   "execution_count": 46,
   "metadata": {},
   "outputs": [],
   "source": [
    "#Programming Basics SoftUni Entry Module"
   ]
  },
  {
   "cell_type": "code",
   "execution_count": 47,
   "metadata": {},
   "outputs": [
    {
     "name": "stdout",
     "output_type": "stream",
     "text": [
      "64\n"
     ]
    }
   ],
   "source": [
    "# Area of triangle\n",
    "side = int(input())\n",
    "area = side * side \n",
    "print(area)"
   ]
  },
  {
   "cell_type": "code",
   "execution_count": 48,
   "metadata": {},
   "outputs": [
    {
     "name": "stdout",
     "output_type": "stream",
     "text": [
      "58.42\n"
     ]
    }
   ],
   "source": [
    "# Inch to centimeters convertor\n",
    "\n",
    "inch = int(input())\n",
    "convertor = 2.54 * inch\n",
    "print(convertor)"
   ]
  },
  {
   "cell_type": "code",
   "execution_count": 49,
   "metadata": {},
   "outputs": [
    {
     "name": "stdout",
     "output_type": "stream",
     "text": [
      "Hello 8 !\n"
     ]
    }
   ],
   "source": [
    "# Name greeting\n",
    "name = input()\n",
    "print(f'Hello {name} !')"
   ]
  },
  {
   "cell_type": "code",
   "execution_count": 50,
   "metadata": {},
   "outputs": [
    {
     "name": "stdout",
     "output_type": "stream",
     "text": [
      "You are 14 30, a 16 years old person from 12\n"
     ]
    }
   ],
   "source": [
    "# Text and numbers \n",
    "first_name = input()\n",
    "second_name = input()\n",
    "age = int(input())\n",
    "town = input()\n",
    "\n",
    "print(f'You are {first_name} {second_name}, a {age} years old person from {town}' )"
   ]
  },
  {
   "cell_type": "code",
   "execution_count": null,
   "metadata": {},
   "outputs": [],
   "source": [
    "# Project Builder\n",
    "\n",
    "name = input()\n",
    "count_project = int(input())\n",
    "print(f'The architect {name} will need {count_project*3} hours to complete {count_project} project/s.')"
   ]
  },
  {
   "cell_type": "code",
   "execution_count": null,
   "metadata": {},
   "outputs": [
    {
     "name": "stdout",
     "output_type": "stream",
     "text": [
      "28.5 lv.\n"
     ]
    }
   ],
   "source": [
    "# Zoo Shop\n",
    "\n",
    "count_dogs = int(input())\n",
    "rest_of_animals = int(input())\n",
    "\n",
    "dog_food_price = 2.50\n",
    "other = 4\n",
    "total = count_dogs * dog_food_price + rest_of_animals*other\n",
    "print(f'{total} lv.')"
   ]
  },
  {
   "cell_type": "code",
   "execution_count": null,
   "metadata": {},
   "outputs": [
    {
     "name": "stdout",
     "output_type": "stream",
     "text": [
      "The final price is 3432.11\n",
      "The discount is:753.39\n"
     ]
    }
   ],
   "source": [
    "# Landscape Greening\n",
    "\n",
    "square_meeters = float(input())\n",
    "price = 7.61\n",
    "discount = (square_meeters * price)* 0.18\n",
    "print(f'The final price is {(square_meeters* price)-discount}')\n",
    "print(f'The discount is:{discount}')"
   ]
  },
  {
   "cell_type": "code",
   "execution_count": null,
   "metadata": {},
   "outputs": [
    {
     "name": "stdout",
     "output_type": "stream",
     "text": [
      "17.95\n"
     ]
    }
   ],
   "source": [
    "# Exchange convertor\n",
    "\n",
    "usd = float(input())\n",
    "print(f'{usd* 1.79549:.2f}')"
   ]
  },
  {
   "cell_type": "code",
   "execution_count": null,
   "metadata": {},
   "outputs": [
    {
     "name": "stdout",
     "output_type": "stream",
     "text": [
      "358\n"
     ]
    }
   ],
   "source": [
    "# Radians to degrees\n",
    "import math\n",
    "from math import pi,floor\n",
    "\n",
    "radians = float(input())\n",
    "degrees = radians*180 / pi\n",
    "print(floor(degrees))\n"
   ]
  },
  {
   "cell_type": "code",
   "execution_count": null,
   "metadata": {},
   "outputs": [
    {
     "name": "stdout",
     "output_type": "stream",
     "text": [
      "485.0\n"
     ]
    }
   ],
   "source": [
    "#Deposit Calculator \n",
    "deposit_sum = float(input())\n",
    "deposit_length = int(input())\n",
    "yield_of_deposit = float(input())\n",
    "\n",
    "total = deposit_sum + deposit_length* ((deposit_sum* yield_of_deposit/100)/12)\n",
    "\n",
    "print(total)"
   ]
  },
  {
   "cell_type": "code",
   "execution_count": null,
   "metadata": {},
   "outputs": [
    {
     "name": "stdout",
     "output_type": "stream",
     "text": [
      "5.3\n"
     ]
    }
   ],
   "source": [
    "# Books to read\n",
    "\n",
    "count_pages_current = int(input())\n",
    "pages_per_hour = int(input())\n",
    "count_days_per_book = int(input())\n",
    "\n",
    "total_time = count_pages_current / pages_per_hour\n",
    "hours_per_day = total_time / count_days_per_book\n",
    "\n",
    "print(hours_per_day)"
   ]
  },
  {
   "cell_type": "code",
   "execution_count": null,
   "metadata": {},
   "outputs": [
    {
     "name": "stdout",
     "output_type": "stream",
     "text": [
      "3652.5\n"
     ]
    }
   ],
   "source": [
    "#Birthday Party\n",
    "rent_price = int(input())\n",
    "cake_price = rent_price * 0.2\n",
    "drinks = cake_price * 0.55\n",
    "animator = rent_price / 3\n",
    "total = rent_price + cake_price + drinks + animator\n",
    "\n",
    "print(total)"
   ]
  },
  {
   "cell_type": "code",
   "execution_count": 52,
   "metadata": {},
   "outputs": [
    {
     "name": "stdout",
     "output_type": "stream",
     "text": [
      "137687.2\n"
     ]
    }
   ],
   "source": [
    "#Charity Campaign\n",
    "\n",
    "days = int(input())\n",
    "bakers = int(input())\n",
    "cakes = int(input())\n",
    "waffles = int(input())\n",
    "pancakes = int(input())\n",
    "\n",
    "cake_price = 45\n",
    "waffle_price = 5.8\n",
    "pancake_price = 3.2\n",
    "\n",
    "total_sum = (((cake_price*cakes)+(waffle_price*waffles)+(pancake_price*pancakes))* bakers) * days\n",
    "\n",
    "print(f'{(total_sum)- (1/8 * total_sum)}')"
   ]
  },
  {
   "cell_type": "code",
   "execution_count": 53,
   "metadata": {},
   "outputs": [
    {
     "name": "stdout",
     "output_type": "stream",
     "text": [
      "558.325\n"
     ]
    }
   ],
   "source": [
    "#Fruit Market\n",
    "\n",
    "strawberry_price = float(input())\n",
    "bananas_weight = float(input())\n",
    "oranges_weight = float(input())\n",
    "raspberries_weight = float(input())\n",
    "strawberries_weight = float(input())\n",
    "\n",
    "\n",
    "raspberries_price = strawberry_price * 0.5\n",
    "oranges_price = raspberries_price * 0.6\n",
    "bananas_price = raspberries_price * 0.2\n",
    "\n",
    "money = ((strawberries_weight * strawberry_price)+(bananas_price*bananas_weight)+(raspberries_price*raspberries_weight)+(oranges_price*oranges_weight))\n",
    "print(f'{money:.2f}')\n"
   ]
  },
  {
   "cell_type": "code",
   "execution_count": 55,
   "metadata": {},
   "outputs": [
    {
     "name": "stdout",
     "output_type": "stream",
     "text": [
      "248.69\n"
     ]
    }
   ],
   "source": [
    "# Water Tank\n",
    "length = int(input())\n",
    "width = int(input())\n",
    "height = int(input())\n",
    "used = float(input())\n",
    "\n",
    "total = length * width * height\n",
    "water_needed = total * 0.001\n",
    "percentage_used = used * 0.01\n",
    "print(f'{(water_needed)*(1-percentage_used):.2f}')"
   ]
  }
 ],
 "metadata": {
  "kernelspec": {
   "display_name": "base",
   "language": "python",
   "name": "python3"
  },
  "language_info": {
   "codemirror_mode": {
    "name": "ipython",
    "version": 3
   },
   "file_extension": ".py",
   "mimetype": "text/x-python",
   "name": "python",
   "nbconvert_exporter": "python",
   "pygments_lexer": "ipython3",
   "version": "3.10.9"
  }
 },
 "nbformat": 4,
 "nbformat_minor": 2
}
