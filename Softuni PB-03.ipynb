{
 "cells": [
  {
   "cell_type": "code",
   "execution_count": 3,
   "metadata": {},
   "outputs": [
    {
     "name": "stdout",
     "output_type": "stream",
     "text": [
      "Monday\n"
     ]
    }
   ],
   "source": [
    "# SoftUni Conditional Statemnts Pt.2\n",
    "\n",
    "# Day of the Week\n",
    "\n",
    "day = int(input())\n",
    "\n",
    "if day == 1:\n",
    "    print(\"Monday\")\n",
    "elif day == 2:\n",
    "    print(\"Tuesday\")\n",
    "elif day == 3:\n",
    "    print(\"Wednesday\")\n",
    "elif day == 4:\n",
    "    print(\"Thursday\")\n",
    "elif day == 5:\n",
    "    print(\"Friday\")\n",
    "elif day == 6:\n",
    "    print(\"Saturday\")\n",
    "elif day == 7:\n",
    "    print(\"Sunday\")\n",
    "else:\n",
    "    print(\"Error\")"
   ]
  },
  {
   "cell_type": "code",
   "execution_count": 6,
   "metadata": {},
   "outputs": [
    {
     "name": "stdout",
     "output_type": "stream",
     "text": [
      "Working Day\n"
     ]
    }
   ],
   "source": [
    "# Working day or Day Off\n",
    "day = input()\n",
    "\n",
    "if day == 'Monday' or day == 'Tuesday' or day == 'Wednesday' or day == 'Thursday' or day == 'Friday':\n",
    "    print(\"Working Day\")\n",
    "elif day == 'Saturday' or day == \"Sunday\":\n",
    "    print(\"Weekend\")\n",
    "else:\n",
    "    print(\"Error\")"
   ]
  },
  {
   "cell_type": "code",
   "execution_count": 9,
   "metadata": {},
   "outputs": [
    {
     "name": "stdout",
     "output_type": "stream",
     "text": [
      "reptile\n"
     ]
    }
   ],
   "source": [
    "# Animal Classificatio\n",
    "\n",
    "animal = input()\n",
    "\n",
    "if animal == 'dog':\n",
    "    print(\"mammal\")\n",
    "elif animal == 'crocodile' or animal == 'snake' or animal == 'tortoise':\n",
    "    print(\"reptile\")\n",
    "else:\n",
    "    print(\"unknown\")"
   ]
  },
  {
   "cell_type": "code",
   "execution_count": 13,
   "metadata": {},
   "outputs": [
    {
     "name": "stdout",
     "output_type": "stream",
     "text": [
      "Master\n"
     ]
    }
   ],
   "source": [
    "# Task 4\n",
    "\n",
    "age = float(input())\n",
    "gender = input()\n",
    "\n",
    "if gender == 'm':\n",
    "    if age >= 16:\n",
    "        print(\"Mr.\")\n",
    "    else:\n",
    "        print(\"Master\")\n",
    "elif gender == 'f':\n",
    "    if age >= 16:\n",
    "        print(\"Ms.\")\n",
    "    else:\n",
    "        print(\"Miss\")\n",
    "        \n"
   ]
  },
  {
   "cell_type": "code",
   "execution_count": 17,
   "metadata": {},
   "outputs": [],
   "source": [
    "# Local Shop\n",
    "\n",
    "product = input()\n",
    "town = input()\n",
    "quantity = float(input())\n",
    "\n",
    "if town == 'Sofia':\n",
    "    if product == 'coffee':\n",
    "        print(quantity * 0.5)\n",
    "    elif product == 'water':\n",
    "        print(quantity * 0.8)\n",
    "    elif product == 'beer':\n",
    "        print(quantity * 1.20)\n",
    "    elif product == 'sweets':\n",
    "        print(quantity * 1.45)\n",
    "    elif product == 'peanuts':\n",
    "        print(quantity * 1.60)\n",
    "elif town == 'Plovdiv':\n",
    "    if product == 'coffee':\n",
    "        print(quantity * 0.4)\n",
    "    elif product == 'water':\n",
    "        print(quantity * 0.7)\n",
    "    elif product == 'beer':\n",
    "        print(quantity * 1.15)\n",
    "    elif product == 'sweets':\n",
    "        print(quantity * 1.30)\n",
    "    elif product == 'peanuts':\n",
    "        print(quantity * 1.5)\n",
    "elif town == 'Varna':\n",
    "    if product == 'coffee':\n",
    "        print(quantity * 0.45)\n",
    "    elif product == 'water':\n",
    "        print(quantity * 0.7)\n",
    "    elif product == 'beer':\n",
    "        print(quantity * 1.10)\n",
    "    elif product == 'sweets':\n",
    "        print(quantity * 1.35)\n",
    "    elif product == 'peanuts':\n",
    "        print(quantity * 1.55)\n"
   ]
  },
  {
   "cell_type": "code",
   "execution_count": 21,
   "metadata": {},
   "outputs": [
    {
     "name": "stdout",
     "output_type": "stream",
     "text": [
      "Yes\n"
     ]
    }
   ],
   "source": [
    "# Number in range\n",
    "\n",
    "number = int(input())\n",
    "\n",
    "if -100 <= number <= 100 and number != 0:\n",
    "    print(\"Yes\")\n",
    "else:\n",
    "    print(\"No\")"
   ]
  },
  {
   "cell_type": "code",
   "execution_count": 29,
   "metadata": {},
   "outputs": [
    {
     "name": "stdout",
     "output_type": "stream",
     "text": [
      "Open\n"
     ]
    }
   ],
   "source": [
    "# Working Time\n",
    "\n",
    "day = input()\n",
    "hour = int(input())\n",
    "\n",
    "if day == 'Monday' or day == \"Tuesday\" or day == 'Wednesday' or day == 'Thursday' or day == 'Friday' or day == \"Saturday\":\n",
    "    if 10 <= hour <=18:\n",
    "        print(\"Open\")\n",
    "    else:\n",
    "        print(\"Closed\")\n",
    "else:\n",
    "    print(\"Closed\")"
   ]
  },
  {
   "cell_type": "code",
   "execution_count": 33,
   "metadata": {},
   "outputs": [
    {
     "name": "stdout",
     "output_type": "stream",
     "text": [
      "16\n"
     ]
    }
   ],
   "source": [
    "# Cinema Ticket\n",
    "\n",
    "day = input()\n",
    "price = 0\n",
    "\n",
    "if day == 'Monday' or day == 'Tuesday':\n",
    "    price = 12\n",
    "elif day == 'Wednesday' or day == 'Thursday':\n",
    "    price = 14\n",
    "elif day == 'Saturday' or day == 'Sunday':\n",
    "    price = 16\n",
    "else:\n",
    "    price = 12\n",
    "    \n",
    "print(price)"
   ]
  },
  {
   "cell_type": "code",
   "execution_count": 37,
   "metadata": {},
   "outputs": [
    {
     "name": "stdout",
     "output_type": "stream",
     "text": [
      "unknown\n"
     ]
    }
   ],
   "source": [
    "# Fruit or vegetable\n",
    "\n",
    "name = input()\n",
    "\n",
    "if name == 'banana' or name == 'apple' or name == 'kiwi' or name == 'cherry' or name == 'lemon' or name == 'grapes':\n",
    "    print(\"Fruit\")\n",
    "elif name == 'tomato' or name == 'cucumber' or name == 'pepper' or name == 'carrot':\n",
    "    print(\"Vegetable\")\n",
    "else:\n",
    "    print(\"unknown\")"
   ]
  },
  {
   "cell_type": "code",
   "execution_count": 45,
   "metadata": {},
   "outputs": [
    {
     "name": "stdout",
     "output_type": "stream",
     "text": [
      "valid\n"
     ]
    }
   ],
   "source": [
    "# Invalid number \n",
    "\n",
    "number = int(input())\n",
    "\n",
    "if number in range(100,201) or number == 0:\n",
    "    print(\"valid\")\n",
    "else:\n",
    "    print(\"invalid\")"
   ]
  },
  {
   "cell_type": "code",
   "execution_count": null,
   "metadata": {},
   "outputs": [],
   "source": [
    "# Fruit Store\n",
    "\n",
    "fruit = input()\n",
    "day = input()\n",
    "weight = float(input())\n",
    "price = 0\n",
    "\n",
    "if day == 'Monday' or day == 'Tuesday' or day == 'Wednesday' or day == 'Thursday' or day == 'Friday':\n",
    "    if fruit == 'banana':\n",
    "        price = 2.50\n",
    "    elif fruit == 'apple':\n",
    "        price = 1.20\n",
    "    elif fruit == 'orange':\n",
    "        price = 0.85\n",
    "    elif fruit == 'grapefruit':\n",
    "        price = 1.45\n",
    "    elif fruit == 'kiwi':\n",
    "        price = 2.70\n",
    "    elif fruit == 'pineapple':\n",
    "        price = 5.50\n",
    "    elif fruit == 'grapes':\n",
    "        price = 3.85\n",
    "    else:\n",
    "        print(\"error\")\n",
    "elif day == 'Saturday' or day == 'Sunday':\n",
    "    if fruit == 'banana':\n",
    "        price = 2.70\n",
    "    elif fruit == 'apple':\n",
    "        price = 1.25\n",
    "    elif fruit == 'orange':\n",
    "        price = 0.90\n",
    "    elif fruit == 'grapefruit':\n",
    "        price = 1.60\n",
    "    elif fruit == 'kiwi':\n",
    "        price = 3\n",
    "    elif fruit == 'pineapple':\n",
    "        price = 5.60\n",
    "    elif fruit == 'grapes':\n",
    "        price = 4.20\n",
    "    else:\n",
    "        print(\"error\")     \n",
    "print(weight* price)   "
   ]
  },
  {
   "cell_type": "code",
   "execution_count": 59,
   "metadata": {},
   "outputs": [
    {
     "name": "stdout",
     "output_type": "stream",
     "text": [
      "27.50\n"
     ]
    }
   ],
   "source": [
    "# Trading Comission\n",
    "\n",
    "town = input()\n",
    "volume = float(input())\n",
    "comission = 0\n",
    "\n",
    "if town == 'Sofia':\n",
    "    if 0 <= volume <= 500:\n",
    "        comission = 0.05\n",
    "    elif 500 < volume <= 1000:\n",
    "        comission = 0.06\n",
    "    elif 1000 < volume <= 10000:\n",
    "        comission = 0.08\n",
    "    else:\n",
    "        comission = 0.12\n",
    "elif town == 'Varna':\n",
    "    if 0 <= volume <= 500:\n",
    "        comission = 0.045\n",
    "    elif 500 < volume <= 1000:\n",
    "        comission = 0.075\n",
    "    elif 1000 < volume <= 10000:\n",
    "        comission = 0.1\n",
    "    else:\n",
    "        comission = 0.13\n",
    "elif town == 'Plovdiv':\n",
    "    if 0 <= volume <= 500:\n",
    "        comission = 0.055\n",
    "    elif 500 < volume <= 1000:\n",
    "        comission = 0.08\n",
    "    elif 1000 < volume <= 10000:\n",
    "        comission = 0.12\n",
    "    else:\n",
    "        comission = 0.145\n",
    "else:\n",
    "    print(\"Error\")\n",
    "\n",
    "print(f'{volume * comission:.2f}')"
   ]
  },
  {
   "cell_type": "code",
   "execution_count": 1,
   "metadata": {},
   "outputs": [
    {
     "name": "stdout",
     "output_type": "stream",
     "text": [
      "56.875\n"
     ]
    }
   ],
   "source": [
    "# Ski Trip\n",
    "nights_in = int(input())\n",
    "room_type = input()\n",
    "feedback = input()\n",
    "nights_in = nights_in - 1\n",
    "price = 0\n",
    "\n",
    "if room_type == 'room for one person':\n",
    "    if nights_in < 10:\n",
    "        price = 18\n",
    "    elif 10 < nights_in <= 15:\n",
    "        price = 18\n",
    "    else:\n",
    "        price = 18\n",
    "elif room_type == 'apartment':\n",
    "    if nights_in < 10:\n",
    "        price = 25 * 0.7\n",
    "    elif 10 < nights_in <= 15:\n",
    "        price = 25 * 0.65\n",
    "    else:\n",
    "        price = 25 * 0.5\n",
    "elif room_type == 'president apartment':\n",
    "    if nights_in < 10:\n",
    "        price = 35 * 0.9\n",
    "    elif 10 < nights_in <= 15:\n",
    "        price = 35 * 0.85\n",
    "    else:\n",
    "        price = 35 * 0.8\n",
    "\n",
    "total = nights_in * price\n",
    "\n",
    "if feedback == 'positive':\n",
    "    total = total * 1.25\n",
    "elif feedback == 'negative':\n",
    "    total = total * 0.9\n",
    "\n",
    "print(total)"
   ]
  },
  {
   "cell_type": "code",
   "execution_count": 3,
   "metadata": {},
   "outputs": [
    {
     "name": "stdout",
     "output_type": "stream",
     "text": [
      "1440\n"
     ]
    }
   ],
   "source": [
    "# Cinema\n",
    "type = input()\n",
    "rows = int(input())\n",
    "columns = int(input())\n",
    "capacity = rows * columns\n",
    "income = 0\n",
    "\n",
    "if type == 'Premiere':\n",
    "    income = 12 * capacity\n",
    "elif type == 'Normal':\n",
    "    income = 7.5 * capacity\n",
    "elif type == 'Discount':\n",
    "    income = capacity * 5\n",
    "    \n",
    "print(income)"
   ]
  },
  {
   "cell_type": "code",
   "execution_count": 7,
   "metadata": {},
   "outputs": [
    {
     "name": "stdout",
     "output_type": "stream",
     "text": [
      "It's 22 get your T-shirt and Sandals'\n"
     ]
    }
   ],
   "source": [
    "# Summer Outfit\n",
    "\n",
    "degrees = int(input())\n",
    "type_of_the_day = input()\n",
    "outfit = \"\"\n",
    "shoes = \"\"\n",
    "\n",
    "if type_of_the_day == 'Morning':\n",
    "    if 10 <= degrees <=18:\n",
    "        outfit = 'Sweatshirt'\n",
    "        shoes = 'Sneakers'\n",
    "    elif 18 < degrees <= 24:\n",
    "        outfit = 'Shirt'\n",
    "        shoes = 'Moccasins'\n",
    "    elif degrees >= 25:\n",
    "        outfit = 'T-shirt'\n",
    "        shoes = 'Sandals'\n",
    "elif type_of_the_day == 'Afternoon':\n",
    "    if 10 <= degrees <=18:\n",
    "        outfit = 'Shirt'\n",
    "        shoes = 'Mocasins'\n",
    "    elif 18 < degrees <= 24:\n",
    "        outfit = 'T-shirt'\n",
    "        shoes = 'Sandals'\n",
    "    elif degrees >= 25:\n",
    "        outfit = 'Swimsuit'\n",
    "        shoes = 'Barefoot'\n",
    "elif type_of_the_day == 'Evening':\n",
    "    if 10 <= degrees <=18:\n",
    "        outfit = 'Shirt'\n",
    "        shoes = 'Moccasins'\n",
    "    elif 18 < degrees <= 24:\n",
    "        outfit = 'Shirt'\n",
    "        shoes = 'Moccasins'\n",
    "    elif degrees >= 25:\n",
    "        outfit = 'Shirt'\n",
    "        shoes = 'Mocasins'\n",
    "        \n",
    "print(f\"It's {degrees} get your {outfit} and {shoes}'\")\n"
   ]
  },
  {
   "cell_type": "code",
   "execution_count": 12,
   "metadata": {},
   "outputs": [
    {
     "name": "stdout",
     "output_type": "stream",
     "text": [
      "Yes! 250\n"
     ]
    }
   ],
   "source": [
    "# New House\n",
    "\n",
    "type_flowers = input()\n",
    "count_flowers = int(input())\n",
    "budget = int(input())\n",
    "price = 0\n",
    "if type_flowers == 'Roses':\n",
    "    price = 5 * count_flowers\n",
    "    if count_flowers > 80:\n",
    "        price = (count_flowers * 5) * 0.9\n",
    "elif type_flowers == 'Dahlias':\n",
    "    if count_flowers > 90:\n",
    "        price = (count_flowers * 3.8) * 0.85\n",
    "elif type_flowers == 'Tulips':\n",
    "    if count_flowers > 80:\n",
    "        price = (count_flowers * 2.8) * 0.85\n",
    "elif type_flowers == 'Narcissus':\n",
    "    if count_flowers < 120:\n",
    "        price = (count_flowers * 3) * 1.15\n",
    "elif type_flowers == 'Gladiolus':\n",
    "    if count_flowers < 80:\n",
    "        price = (count_flowers * 2.50) * 1.2\n",
    "\n",
    "if budget > price:\n",
    "    print(f'Yes! {(budget - price)} leva left')\n",
    "else:\n",
    "    print(f'No! {abs(budget - price)} leva more')"
   ]
  },
  {
   "cell_type": "code",
   "execution_count": 18,
   "metadata": {},
   "outputs": [
    {
     "name": "stdout",
     "output_type": "stream",
     "text": [
      "No, 210.0 \n"
     ]
    }
   ],
   "source": [
    "# Fishing Boat\n",
    "\n",
    "budget = int(input())\n",
    "season = input()\n",
    "fishermans = int(input())\n",
    "price_of_boat = 0\n",
    "\n",
    "if fishermans <= 6:\n",
    "    if season == 'Spring':\n",
    "        price_of_boat = 3000 * 0.9\n",
    "    elif season == 'Summer' or season == 'Autumn':\n",
    "        price_of_boat = 4200 * 0.9\n",
    "    elif season == 'Winter':\n",
    "        price_of_boat = 2600 * 0.9\n",
    "elif 7 <= fishermans >= 11:\n",
    "    if season == 'Spring':\n",
    "        price_of_boat = 3000 * 0.85\n",
    "    elif season == 'Summer' or season == 'Autumn':\n",
    "        price_of_boat = 4200 * 0.85\n",
    "    elif season == 'Winter':\n",
    "        price_of_boat = 2600 * 0.85\n",
    "elif fishermans >= 12:\n",
    "    if season == 'Spring':\n",
    "        price_of_boat = 3000 * 0.75\n",
    "    elif season == 'Summer' or season == 'Autumn':\n",
    "        price_of_boat = 4200 * 0.75\n",
    "    elif season == 'Winter':\n",
    "        price_of_boat = 2600 * 0.75\n",
    "\n",
    "if budget > price_of_boat:\n",
    "    print(f'Yes {budget - price_of_boat}')\n",
    "else:\n",
    "    print(f'No, {abs(budget - price_of_boat)} ')"
   ]
  },
  {
   "cell_type": "code",
   "execution_count": null,
   "metadata": {},
   "outputs": [],
   "source": [
    "# Adventure \n",
    "\n",
    "budget = float(input())\n",
    "season = input()\n",
    "destination = ''\n",
    "type_vacation = ''\n",
    "needed_money = 0\n",
    "\n",
    "if budget <= 100:\n",
    "    destination = \"Bulgaria\"\n",
    "    if season == \"summer\":\n",
    "        needed_money = budget * 0.3\n",
    "    elif season == \"winter\":\n",
    "        needed_money = budget * 0.7\n",
    "elif budget <= 1000:\n",
    "    destination = \"Balkans\"\n",
    "    if season == \"summer\":\n",
    "        needed_money = budget * 0.4\n",
    "    elif season == \"winter\":\n",
    "        needed_money = budget * 0.8\n",
    "else:\n",
    "    destination = \"Europe\"\n",
    "    needed_money = budget * 0.9\n",
    "\n",
    "if season == \"summer\" and destination != \"Europe\":\n",
    "    type_vacation = \"Camp\"\n",
    "elif season == \"winter\" or destination == \"Europe\":\n",
    "    type_vacation = \"Hotel\"\n",
    "print(f\"Somewhere in {destination}\")\n",
    "print(f\"{type_vacation} - {needed_money:.2f}\")"
   ]
  },
  {
   "cell_type": "code",
   "execution_count": null,
   "metadata": {},
   "outputs": [],
   "source": [
    "# Operations between numbers\n",
    "\n",
    "n1 = int(input())\n",
    "n2 = int(input())\n",
    "operator = input()\n",
    "\n",
    "result = 0\n",
    "output = \"\"\n",
    "\n",
    "if n2 == 0 and operator == '/' or operator == '%':\n",
    "    output = \"Cannot divide by zero\"\n",
    "elif operator == '/':\n",
    "    result = n1/n2\n",
    "    print(result)\n",
    "elif operator == \"%\":\n",
    "    result = n1%n2\n",
    "# ToDO"
   ]
  },
  {
   "cell_type": "code",
   "execution_count": null,
   "metadata": {},
   "outputs": [],
   "source": [
    "# Hotel Room\n",
    "month = input()\n",
    "days = int(input())\n",
    " \n",
    "studio_price = 76\n",
    "apartment_price = 77\n",
    "if month == \"May\" or month == \"October\":\n",
    "    studio_price = 50\n",
    "    apartment_price = 65\n",
    "    if days > 14:\n",
    "        studio_price *= 0.7\n",
    "    elif days > 7:\n",
    "        studio_price *= 0.95\n",
    "elif month == \"June\" or month == \"September\":\n",
    "    studio_price = 75.2\n",
    "    apartment_price = 68.7\n",
    "    if days > 14:\n",
    "        studio_price *= 0.8\n",
    " \n",
    "if days > 14:\n",
    "    apartment_price *= 0.9\n",
    " \n",
    "print(f\"Apartment: {days * apartment_price:.2f} lv.\")\n",
    "print(f\"Studio: {days * studio_price:.2f} lv.\")"
   ]
  },
  {
   "cell_type": "code",
   "execution_count": null,
   "metadata": {},
   "outputs": [],
   "source": [
    "# Exam \n",
    "\n",
    "import math\n",
    "hours_exam = int(input())\n",
    "minutes_exam = int(input())\n",
    "hours_arrival = int(input())\n",
    "minutes_arrival = int(input())\n",
    " \n",
    " \n",
    "total_minutes_exam = hours_exam*60 + minutes_exam\n",
    "total_minutes_arrival = hours_arrival*60 + minutes_arrival\n",
    " \n",
    "if total_minutes_arrival > total_minutes_exam:\n",
    "    print(\"Late\")\n",
    "    if (total_minutes_arrival - total_minutes_exam) < 60:\n",
    "        print(f\"{total_minutes_arrival-total_minutes_exam} minutes after the start\")\n",
    "    elif(total_minutes_arrival - total_minutes_exam) >= 60:\n",
    "        remainder = math.floor((total_minutes_arrival-total_minutes_exam)/60)\n",
    "        if ((total_minutes_arrival-total_minutes_exam)%60) >= 10:\n",
    "            print(f\"{math.floor((total_minutes_arrival-total_minutes_exam)/60)}:{(total_minutes_arrival-total_minutes_exam)%60} hours after the start\")\n",
    "        elif ((total_minutes_arrival-total_minutes_exam)%60) < 10:\n",
    "            print(\n",
    "                f\"{math.floor((total_minutes_arrival - total_minutes_exam) / 60)}:0{(total_minutes_arrival - total_minutes_exam) % 60} hours after the start\")\n",
    "elif total_minutes_arrival < total_minutes_exam and abs(total_minutes_arrival-total_minutes_exam) > 30:\n",
    "    print(\"Early\")\n",
    "    if (total_minutes_exam - total_minutes_arrival) < 60:\n",
    "        print(f\"{total_minutes_exam - total_minutes_arrival} minutes before the start\")\n",
    "    elif (total_minutes_exam - total_minutes_arrival) >= 60:\n",
    "        remainder = math.floor((total_minutes_exam - total_minutes_arrival)%60)\n",
    "        if ((total_minutes_exam-total_minutes_arrival)%60) >= 10:\n",
    "            print(f\"{round((total_minutes_exam-total_minutes_arrival)/60)}:{(total_minutes_exam-total_minutes_arrival)%60} hours before the start\")\n",
    "        elif ((total_minutes_exam-total_minutes_arrival)%60) < 10:\n",
    "            print(\n",
    "                f\"{round((total_minutes_exam - total_minutes_arrival) / 60)}:0{(total_minutes_exam - total_minutes_arrival) % 60} hours before the start\")\n",
    "elif total_minutes_arrival < total_minutes_exam and 0 < abs(total_minutes_arrival-total_minutes_exam) <= 30:\n",
    "    print(\"On time\")\n",
    "    print(f\"{total_minutes_exam - total_minutes_arrival} minutes before the start\")\n",
    "elif total_minutes_arrival == total_minutes_exam:\n",
    "    print(\"On time\")\n",
    "    "
   ]
  },
  {
   "cell_type": "code",
   "execution_count": null,
   "metadata": {},
   "outputs": [],
   "source": [
    "# Volleyball \n",
    "from math import floor\n",
    "\n",
    "year = input()\n",
    "p = int(input())  # holidays\n",
    "h = int(input())  # weekends home\n",
    "\n",
    "free_weekends = 48 - h\n",
    "weekends_sofia = free_weekends * 0.75\n",
    "games_home = h\n",
    "games_sofia = p * (2 / 3)\n",
    "games_sum = weekends_sofia + games_sofia + games_home\n",
    "\n",
    "if year == \"leap\":\n",
    "    games_sum *= 1.15\n",
    "\n",
    "print(floor(games_sum))"
   ]
  }
 ],
 "metadata": {
  "kernelspec": {
   "display_name": "base",
   "language": "python",
   "name": "python3"
  },
  "language_info": {
   "codemirror_mode": {
    "name": "ipython",
    "version": 3
   },
   "file_extension": ".py",
   "mimetype": "text/x-python",
   "name": "python",
   "nbconvert_exporter": "python",
   "pygments_lexer": "ipython3",
   "version": "3.10.9"
  }
 },
 "nbformat": 4,
 "nbformat_minor": 2
}
