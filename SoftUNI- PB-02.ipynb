{
 "cells": [
  {
   "cell_type": "code",
   "execution_count": 2,
   "metadata": {},
   "outputs": [
    {
     "name": "stdout",
     "output_type": "stream",
     "text": [
      "Excellent!\n"
     ]
    }
   ],
   "source": [
    "# SoftUni Condtional Statements Pt.1\n",
    "\n",
    "# Grade Checker\n",
    "\n",
    "grade = float(input())\n",
    "\n",
    "if grade >= 5.50:\n",
    "    print('Excellent!')"
   ]
  },
  {
   "cell_type": "code",
   "execution_count": 5,
   "metadata": {},
   "outputs": [
    {
     "name": "stdout",
     "output_type": "stream",
     "text": [
      "5\n"
     ]
    }
   ],
   "source": [
    "# Greater Number\n",
    "a = int(input())\n",
    "b = int(input())\n",
    "\n",
    "if a > b:\n",
    "    print(a)\n",
    "else:\n",
    "    print(b)"
   ]
  },
  {
   "cell_type": "code",
   "execution_count": 7,
   "metadata": {},
   "outputs": [
    {
     "name": "stdout",
     "output_type": "stream",
     "text": [
      "Odd\n"
     ]
    }
   ],
   "source": [
    "# Odd or Even\n",
    "a = int(input())\n",
    "\n",
    "if a % 2 == 0:\n",
    "    print('Even')\n",
    "else:\n",
    "    print('Odd')"
   ]
  },
  {
   "cell_type": "code",
   "execution_count": 16,
   "metadata": {},
   "outputs": [
    {
     "name": "stdout",
     "output_type": "stream",
     "text": [
      "Greater than 200\n"
     ]
    }
   ],
   "source": [
    "# 100 to 200\n",
    "a = int(input())\n",
    "\n",
    "if a < 100:\n",
    "    print('Less than 100')\n",
    "elif 100 <= a <= 200:\n",
    "    print('Between 100 and 200')\n",
    "else:\n",
    "    print('Greater than 200')"
   ]
  },
  {
   "cell_type": "code",
   "execution_count": 19,
   "metadata": {},
   "outputs": [
    {
     "name": "stdout",
     "output_type": "stream",
     "text": [
      "Welcome\n"
     ]
    }
   ],
   "source": [
    "# Password Guesser \n",
    "password = input()\n",
    "secret = \"s3cr3t!P@ssw0rd\"\n",
    "\n",
    "if password == secret:\n",
    "    print('Welcome')\n",
    "else:\n",
    "    print('Wrong password!')"
   ]
  },
  {
   "cell_type": "code",
   "execution_count": 25,
   "metadata": {},
   "outputs": [
    {
     "name": "stdout",
     "output_type": "stream",
     "text": [
      "25.0\n"
     ]
    }
   ],
   "source": [
    "# Finding Area\n",
    "import math\n",
    "from math import pi\n",
    "shape = input()\n",
    "area = 0\n",
    "\n",
    "if shape == 'square':\n",
    "    a = float(input())\n",
    "    print(a * a)\n",
    "elif shape == 'rectangle':\n",
    "    a = float(input())\n",
    "    b = float(input())\n",
    "    area = a * b\n",
    "    print(area)\n",
    "elif shape == 'circle':\n",
    "    a = float(input())\n",
    "    area = pi*(a*a)\n",
    "    print(area)\n",
    "elif shape == 'triangle':\n",
    "    a = float(input())\n",
    "    b = float(input())\n",
    "    area = (a * b) / 2\n",
    "    print(area)"
   ]
  },
  {
   "cell_type": "code",
   "execution_count": 26,
   "metadata": {},
   "outputs": [
    {
     "name": "stdout",
     "output_type": "stream",
     "text": [
      "469.1999999999999\n"
     ]
    }
   ],
   "source": [
    "# Toy Shop\n",
    "\n",
    "trip_price = float(input())\n",
    "count_puzzles = int(input())\n",
    "count_dolls = int(input())\n",
    "count_teddys = int(input())\n",
    "count_minions = int(input())\n",
    "count_trucks = int(input())\n",
    "\n",
    "puzzle_price = 2.60\n",
    "doll_price = 3\n",
    "teddy_price = 4.10\n",
    "minion_price = 8.20\n",
    "truck_price = 2\n",
    "\n",
    "\n",
    "total_order = (count_dolls* doll_price) + (count_minions*minion_price)+ (count_teddys * teddy_price) + (count_puzzles * puzzle_price) + (count_trucks * truck_price)\n",
    "total_count = (count_trucks + count_dolls + count_minions + count_teddys + count_puzzles)\n",
    "\n",
    "if total_count >= 50:\n",
    "    total_order = total_order * 0.75\n",
    "\n",
    "profit = total_order * 0.9\n",
    "\n",
    "if profit >= trip_price:\n",
    "    print(f'Yes {abs(profit-trip_price):.2f}')\n",
    "else:\n",
    "    print(f'No {abs(profit-trip_price):.2f}')"
   ]
  },
  {
   "cell_type": "code",
   "execution_count": null,
   "metadata": {},
   "outputs": [],
   "source": [
    "# Sum of seconds\n",
    "import math\n",
    "from math import floor\n",
    "\n",
    "a = int(input())\n",
    "b = int(input())\n",
    "c = int(input())\n",
    "\n",
    "total = a + b + c\n",
    "minutes = total / 60\n",
    "seconds = total % 60\n",
    "minutes = math.floor(minutes)\n",
    "\n",
    "if seconds < 10:\n",
    "    print(f'{minutes}:0{seconds}')\n",
    "else:\n",
    "    print(f'{minutes}:{seconds}')"
   ]
  },
  {
   "cell_type": "code",
   "execution_count": null,
   "metadata": {},
   "outputs": [],
   "source": [
    "# Bonus Points \n",
    "\n",
    "number = int(input())\n",
    "bonus = 0\n",
    "\n",
    "if number <= 100:\n",
    "    bonus = 5\n",
    "elif number > 100:\n",
    "    bonus = number * 0.1\n",
    "else:\n",
    "    bonus += number * 0.2\n",
    "\n",
    "if number % 2 == 0:\n",
    "    bonus = bonus + 1\n",
    "elif number % 10 == 5:\n",
    "    bonus = bonus + 5\n",
    "\n",
    "print(f'{bonus}')\n",
    "print(f'{number + bonus}')\n",
    "\n"
   ]
  },
  {
   "cell_type": "code",
   "execution_count": 35,
   "metadata": {},
   "outputs": [
    {
     "name": "stdout",
     "output_type": "stream",
     "text": [
      "extremely fast\n"
     ]
    }
   ],
   "source": [
    "# Speed Info\n",
    "\n",
    "speed = float(input())\n",
    "\n",
    "if speed <= 10:\n",
    "    print('slow')\n",
    "elif   speed <= 50:\n",
    "    print('average')\n",
    "elif   speed <= 150:\n",
    "    print('fast')\n",
    "elif   speed <= 1000:\n",
    "    print('ultra fast')\n",
    "else:\n",
    "    print(\"extremely fast\")"
   ]
  },
  {
   "cell_type": "code",
   "execution_count": null,
   "metadata": {},
   "outputs": [],
   "source": [
    "# Convertor metrics\n",
    "\n",
    "length = float(input())\n",
    "a = input()\n",
    "b = input()\n",
    "result = 0\n",
    "\n",
    "if a == 'mm':\n",
    "    result = length /"
   ]
  },
  {
   "cell_type": "code",
   "execution_count": null,
   "metadata": {},
   "outputs": [],
   "source": [
    "# Time + 15 mins\n"
   ]
  },
  {
   "cell_type": "code",
   "execution_count": 38,
   "metadata": {},
   "outputs": [
    {
     "name": "stdout",
     "output_type": "stream",
     "text": [
      "No money\n",
      "3732.66\n"
     ]
    }
   ],
   "source": [
    "budget = float(input())\n",
    "people = int(input())\n",
    "single_outfit_price = float(input())\n",
    "decor_price = budget * 0.1\n",
    "outfits_price = people * single_outfit_price\n",
    "if people > 150:\n",
    "    outfits_price = outfits_price - (outfits_price * 0.1)\n",
    "full_sum = decor_price + outfits_price\n",
    "if full_sum > budget:\n",
    "    needed_money = full_sum - budget\n",
    "    print(\"Not enough money!\")\n",
    "    print(f\"Wingard needs {needed_money:.2f} leva more.\")\n",
    "elif budget >= full_sum:\n",
    "    money_left = budget - full_sum\n",
    "    print(\"Action!\")\n",
    "    print(f\"Wingard starts filming with {money_left:.2f} leva left.\")"
   ]
  },
  {
   "cell_type": "code",
   "execution_count": null,
   "metadata": {},
   "outputs": [],
   "source": [
    "# Swimming Recordtime_in_seconds = float(input())\n",
    "distance_in_meters = float(input())\n",
    "time_in_seconds_for_meter = float(input())\n",
    "resistance = (distance_in_meters / 15) * 12.5\n",
    "total_time = (distance_in_meters * time_in_seconds_for_meter) + resistance\n",
    "\n",
    "if total_time > time_in_seconds:\n",
    "    print(f'No he failed! {abs(total_time - time_in_seconds):.2f} seconds slower.')\n",
    "else:\n",
    "    print(f'Yes ! The new record is {total_time:.2f}')"
   ]
  }
 ],
 "metadata": {
  "kernelspec": {
   "display_name": "base",
   "language": "python",
   "name": "python3"
  },
  "language_info": {
   "codemirror_mode": {
    "name": "ipython",
    "version": 3
   },
   "file_extension": ".py",
   "mimetype": "text/x-python",
   "name": "python",
   "nbconvert_exporter": "python",
   "pygments_lexer": "ipython3",
   "version": "3.10.9"
  }
 },
 "nbformat": 4,
 "nbformat_minor": 2
}
