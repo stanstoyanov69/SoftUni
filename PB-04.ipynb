{
 "cells": [
  {
   "cell_type": "code",
   "execution_count": null,
   "metadata": {},
   "outputs": [],
   "source": [
    "# Softuni For Loops\n",
    "\n",
    "for i in range(101):\n",
    "    print(i)"
   ]
  },
  {
   "cell_type": "code",
   "execution_count": 7,
   "metadata": {},
   "outputs": [
    {
     "name": "stdout",
     "output_type": "stream",
     "text": [
      "1\n",
      "4\n",
      "7\n",
      "10\n"
     ]
    }
   ],
   "source": [
    "# from 1 to n with step 3\n",
    "n = int(input())\n",
    "for i in range(1,n+1,3):\n",
    "    print(i)"
   ]
  },
  {
   "cell_type": "code",
   "execution_count": 21,
   "metadata": {},
   "outputs": [
    {
     "name": "stdout",
     "output_type": "stream",
     "text": [
      "1\n",
      "4\n",
      "27\n"
     ]
    }
   ],
   "source": [
    "# pow 2\n",
    "n = int(input())\n",
    "for i in range(1,n):\n",
    "    print(pow(i,i))"
   ]
  },
  {
   "cell_type": "code",
   "execution_count": null,
   "metadata": {},
   "outputs": [],
   "source": [
    "# reverse step\n",
    "\n",
    "n = int(input())\n",
    "for i in range(n,0,-1):\n",
    "    print(i)\n"
   ]
  },
  {
   "cell_type": "code",
   "execution_count": null,
   "metadata": {},
   "outputs": [],
   "source": [
    "# strings \n",
    "word = input()\n",
    "for char in word:\n",
    "    print(char)"
   ]
  },
  {
   "cell_type": "code",
   "execution_count": 27,
   "metadata": {},
   "outputs": [
    {
     "name": "stdout",
     "output_type": "stream",
     "text": [
      "9\n"
     ]
    }
   ],
   "source": [
    "# Task 6\n",
    "word = input()\n",
    "sum = 0\n",
    "for char in word:\n",
    "    if char == 'a':\n",
    "        sum +=1\n",
    "    elif char == 'e':\n",
    "        sum +=2\n",
    "    elif char == 'i':\n",
    "        sum += 3\n",
    "    elif char == 'o':\n",
    "        sum += 4\n",
    "    elif char == 'u':\n",
    "        sum += 5\n",
    "    \n",
    "print(sum)"
   ]
  },
  {
   "cell_type": "code",
   "execution_count": 31,
   "metadata": {},
   "outputs": [
    {
     "name": "stdout",
     "output_type": "stream",
     "text": [
      "-60\n"
     ]
    }
   ],
   "source": [
    "# Sum of numbers \n",
    "n = int(input())\n",
    "sum = 0\n",
    "\n",
    "for i in range(n):\n",
    "    num = int(input())\n",
    "    sum +=num\n",
    "\n",
    "print(sum)"
   ]
  },
  {
   "cell_type": "code",
   "execution_count": 38,
   "metadata": {},
   "outputs": [
    {
     "name": "stdout",
     "output_type": "stream",
     "text": [
      "12 -19\n"
     ]
    }
   ],
   "source": [
    "# Sequence of numbers\n",
    "\n",
    "n = int(input())\n",
    "max = 0\n",
    "min = 0\n",
    "\n",
    "for i in range(n+1):\n",
    "    num = int(input())    \n",
    "    if num > max:\n",
    "        max = num\n",
    "    if num < min:\n",
    "        min = num\n",
    "\n",
    "print(max,min)"
   ]
  },
  {
   "cell_type": "code",
   "execution_count": 39,
   "metadata": {},
   "outputs": [
    {
     "ename": "ValueError",
     "evalue": "invalid literal for int() with base 10: 'da'",
     "output_type": "error",
     "traceback": [
      "\u001b[1;31m---------------------------------------------------------------------------\u001b[0m",
      "\u001b[1;31mValueError\u001b[0m                                Traceback (most recent call last)",
      "Cell \u001b[1;32mIn[39], line 3\u001b[0m\n\u001b[0;32m      1\u001b[0m \u001b[38;5;66;03m# Left and Right\u001b[39;00m\n\u001b[1;32m----> 3\u001b[0m n \u001b[38;5;241m=\u001b[39m \u001b[38;5;28;43mint\u001b[39;49m\u001b[43m(\u001b[49m\u001b[38;5;28;43minput\u001b[39;49m\u001b[43m(\u001b[49m\u001b[43m)\u001b[49m\u001b[43m)\u001b[49m\n\u001b[0;32m      5\u001b[0m sum_left \u001b[38;5;241m=\u001b[39m \u001b[38;5;241m0\u001b[39m\n\u001b[0;32m      6\u001b[0m sum_right \u001b[38;5;241m=\u001b[39m \u001b[38;5;241m0\u001b[39m\n",
      "\u001b[1;31mValueError\u001b[0m: invalid literal for int() with base 10: 'da'"
     ]
    }
   ],
   "source": [
    "# Left and Right\n",
    "\n",
    "n = int(input())\n",
    " \n",
    "sum_left = 0\n",
    "sum_right = 0\n",
    " \n",
    "for i in range(2 * n):\n",
    "    num = int(input())\n",
    " \n",
    "    if i < n:\n",
    "        sum_left += num\n",
    "    else:\n",
    "        sum_right += num\n",
    " \n",
    "if sum_left == sum_right:\n",
    "    print(f'Yes, sum = {sum_left}')\n",
    "else:\n",
    "    print(f'No, diff = {abs(sum_left - sum_right)}')"
   ]
  },
  {
   "cell_type": "code",
   "execution_count": null,
   "metadata": {},
   "outputs": [],
   "source": [
    "# Odd or Even \n",
    "n = int(input())\n",
    "sum_even = 0\n",
    "sum_odd = 0\n",
    "\n",
    "for i in range(n ):\n",
    "    current_num = int(input())\n",
    "    if current_num % 2 == 0:\n",
    "        sum_even += current_num\n",
    "    else:\n",
    "        sum_odd += current_num\n",
    "\n",
    "\n",
    "if sum_even == sum_odd:\n",
    "    print(f\"Yes {sum_even}\")\n",
    "else:\n",
    "    print(f'No {(abs(sum_even-sum_odd))}')\n"
   ]
  },
  {
   "cell_type": "code",
   "execution_count": null,
   "metadata": {},
   "outputs": [],
   "source": [
    "# Clever Lilly\n",
    "age = int(input())\n",
    "price_washing_machine = float(input())\n",
    "toy_price = int(input())\n",
    "money = 0\n",
    "toys_count = 0\n",
    "\n",
    "for i in range(1,age+1):\n",
    "    if i % 2 == 0:\n",
    "        money += i * 5 -1\n",
    "    elif i % 2 != 0:\n",
    "        toys_count += 1\n",
    "\n",
    "savings = money + (toys_count * toy_price)\n",
    "\n",
    "\n",
    "\n",
    "if savings > price_washing_machine:\n",
    "    print(f'Yes {savings - price_washing_machine}')\n",
    "else:\n",
    "    print(f'No {(abs(savings - price_washing_machine))}')\n",
    "\n",
    "\n",
    "\n",
    "\n"
   ]
  },
  {
   "cell_type": "code",
   "execution_count": null,
   "metadata": {},
   "outputs": [],
   "source": [
    "# Numbers ending in 7\n",
    "\n",
    "for num in range(1,1001):\n",
    "    if num % 10 == 7:\n",
    "        print(num)"
   ]
  },
  {
   "cell_type": "code",
   "execution_count": 11,
   "metadata": {},
   "outputs": [
    {
     "name": "stdout",
     "output_type": "stream",
     "text": [
      "No 2\n"
     ]
    }
   ],
   "source": [
    "# Element equal to the rest\n",
    "\n",
    "max = 0\n",
    "sum = 0\n",
    "n = int(input())\n",
    "for i in range(0, n):\n",
    "    num = int(input())\n",
    "    \n",
    "    if num > max:\n",
    "        max = num    \n",
    "    sum += num\n",
    "    \n",
    "if max == sum - max:\n",
    "    print(f'yes {sum}')\n",
    "else:\n",
    "    print(f'No {abs(max - sum)}')   "
   ]
  },
  {
   "cell_type": "code",
   "execution_count": 16,
   "metadata": {},
   "outputs": [
    {
     "name": "stdout",
     "output_type": "stream",
     "text": [
      "1.75 1.75 0\n",
      "0 0 0\n"
     ]
    }
   ],
   "source": [
    "import sys\n",
    "\n",
    "def get_number_type(number):\n",
    "    if int(number) == float(number):\n",
    "        number = int(number)\n",
    "    else:\n",
    "        number = float(number)\n",
    "    return number\n",
    "\n",
    "n = int(input())\n",
    "\n",
    "even_sum = 0\n",
    "even_min = sys.maxsize\n",
    "even_max = -sys.maxsize\n",
    "\n",
    "odd_sum = 0\n",
    "odd_min = sys.maxsize\n",
    "odd_max = -sys.maxsize\n",
    "\n",
    "for i in range(1, n + 1):\n",
    "    current_number = float(input())\n",
    "    if i % 2 == 0:\n",
    "        even_sum += current_number\n",
    "        if current_number > even_max:\n",
    "            even_max = current_number\n",
    "        if current_number < even_min:\n",
    "            even_min = current_number\n",
    "    else:\n",
    "        odd_sum += current_number\n",
    "        if current_number > odd_max:\n",
    "            odd_max = current_number\n",
    "        if current_number < odd_min:\n",
    "            odd_min = current_number\n",
    "\n",
    "print(f\"OddSum={get_number_type(odd_sum)},\")\n",
    "if odd_min != sys.maxsize:\n",
    "    print(f\"OddMin={get_number_type(odd_min)},\")\n",
    "else:\n",
    "    print(f\"OddMin=No,\")\n",
    "if odd_max != -sys.maxsize:\n",
    "    print(f\"OddMax={get_number_type(odd_max)},\")\n",
    "else:\n",
    "    print(\"OddMax=No,\")\n",
    "\n",
    "print(f\"EvenSum={get_number_type(even_sum)},\")\n",
    "if even_min != sys.maxsize:\n",
    "    print(f\"EvenMin={get_number_type(even_min)},\")\n",
    "else:\n",
    "    print(f\"EvenMin=No,\")\n",
    "if even_max != -sys.maxsize:\n",
    "    print(f\"EvenMax={get_number_type(even_max)}\")\n",
    "else:\n",
    "    print(\"EvenMax=No\")"
   ]
  },
  {
   "cell_type": "code",
   "execution_count": null,
   "metadata": {},
   "outputs": [],
   "source": [
    "# Salary\n",
    "open_tabs = int(input())\n",
    "salary = int(input())\n",
    " \n",
    "fine = 0\n",
    " \n",
    "for site in range(open_tabs):\n",
    "    site_name = input()\n",
    " \n",
    "    if site_name == \"Facebook\":\n",
    "        fine = 150\n",
    "    elif site_name == \"Instagram\":\n",
    "        fine = 100\n",
    "    elif site_name == \"Reddit\":\n",
    "        fine = 50\n",
    "    else:\n",
    "        fine = 0\n",
    "        \n",
    "    salary -= fine\n",
    "    \n",
    "    if salary <= 0:\n",
    "      print(\"You have lost your salary.\")\n",
    "      break\n",
    "    # else: # not needed actually\n",
    "      # continue\n",
    "    \n",
    "if salary > 0:    \n",
    "  print(salary)"
   ]
  },
  {
   "cell_type": "code",
   "execution_count": null,
   "metadata": {},
   "outputs": [],
   "source": [
    "# Histogram\n",
    "numbers = int(input())\n",
    " \n",
    "p1=0\n",
    "p2=0\n",
    "p3=0\n",
    "p4=0\n",
    "p5=0\n",
    "for number in range(0, numbers):\n",
    "    current_number = int(input())\n",
    "    if current_number < 200:\n",
    "        p1+=1\n",
    "    elif current_number>=200 and current_number <400:\n",
    "        p2+=1\n",
    "    elif current_number>=400 and current_number <600:\n",
    "        p3+=1\n",
    "    elif current_number >=600 and current_number <800:\n",
    "        p4+=1\n",
    "    else:\n",
    "        p5+=1\n",
    " \n",
    "print('{0:.2f}'.format(p1/numbers*100))\n",
    "print('{0:.2f}'.format(p2/numbers*100))\n",
    "print('{0:.2f}'.format(p3/numbers*100))\n",
    "print('{0:.2f}'.format(p4/numbers*100))\n",
    "print('{0:.2f}'.format(p5/numbers*100))"
   ]
  }
 ],
 "metadata": {
  "kernelspec": {
   "display_name": "base",
   "language": "python",
   "name": "python3"
  },
  "language_info": {
   "codemirror_mode": {
    "name": "ipython",
    "version": 3
   },
   "file_extension": ".py",
   "mimetype": "text/x-python",
   "name": "python",
   "nbconvert_exporter": "python",
   "pygments_lexer": "ipython3",
   "version": "3.10.9"
  }
 },
 "nbformat": 4,
 "nbformat_minor": 2
}
